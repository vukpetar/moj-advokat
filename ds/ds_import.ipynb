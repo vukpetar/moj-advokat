{
 "cells": [
  {
   "cell_type": "code",
   "execution_count": 1,
   "metadata": {},
   "outputs": [],
   "source": [
    "import pandas as pd\n",
    "from tqdm import tqdm"
   ]
  },
  {
   "cell_type": "code",
   "execution_count": 2,
   "metadata": {},
   "outputs": [],
   "source": [
    "law_df = pd.read_pickle(\"./dataset/propisi_net/law_v4.pkl\")\n",
    "article_df = pd.read_pickle(\"./dataset/propisi_net/article_v4.pkl\")\n",
    "item_df = pd.read_pickle(\"./dataset/propisi_net/item_v4.pkl\")"
   ]
  },
  {
   "cell_type": "code",
   "execution_count": 3,
   "metadata": {},
   "outputs": [
    {
     "name": "stderr",
     "output_type": "stream",
     "text": [
      "100%|██████████| 20281/20281 [00:08<00:00, 2514.08it/s]\n"
     ]
    }
   ],
   "source": [
    "law_df[\"pid\"] = law_df.index.values + 1\n",
    "\n",
    "law_ids, article_ids, article_law_ids = [], [], []\n",
    "for article_ind, article_row in tqdm(article_df.iterrows(), total=len(article_df)):\n",
    "    article_id = article_ind + 1\n",
    "    article_ids.append(article_id)\n",
    "    article_law = law_df[law_df.id == article_row.law_id].copy()\n",
    "\n",
    "    if len(article_law) < 1:\n",
    "        article_law_ids.append(None)\n",
    "    else:\n",
    "        article_law_ids.append(article_law.pid.values[0])"
   ]
  },
  {
   "cell_type": "code",
   "execution_count": 4,
   "metadata": {},
   "outputs": [],
   "source": [
    "article_df[\"pid\"] = article_ids\n",
    "article_df[\"plaw_id\"] = article_law_ids"
   ]
  },
  {
   "cell_type": "code",
   "execution_count": 5,
   "metadata": {},
   "outputs": [
    {
     "name": "stderr",
     "output_type": "stream",
     "text": [
      "100%|██████████| 89053/89053 [02:24<00:00, 616.85it/s]\n"
     ]
    }
   ],
   "source": [
    "item_ids, article_item_ids = [], []\n",
    "\n",
    "for item_ind, item_row in tqdm(item_df.iterrows(), total=len(item_df)):\n",
    "    item_id = item_ind + 1\n",
    "    item_ids.append(item_id)\n",
    "    item_article = article_df[article_df.id == item_row.article_id].copy()\n",
    "    if len(item_article) < 1:\n",
    "        article_item_ids.append(None)\n",
    "    else:\n",
    "        article_item_ids.append(item_article.pid.values[0])"
   ]
  },
  {
   "cell_type": "code",
   "execution_count": 6,
   "metadata": {},
   "outputs": [],
   "source": [
    "item_df[\"pid\"] = item_ids\n",
    "item_df[\"particle_id\"] = article_item_ids"
   ]
  },
  {
   "cell_type": "code",
   "execution_count": 12,
   "metadata": {},
   "outputs": [],
   "source": [
    "law_df[\"id\"] = law_df[\"pid\"]\n",
    "article_df[\"id\"] = article_df[\"pid\"]\n",
    "article_df[\"law_id\"] = article_df[\"plaw_id\"]\n",
    "item_df[\"id\"] = item_df[\"pid\"]\n",
    "item_df[\"article_id\"] = item_df[\"particle_id\"]\n",
    "law_df = law_df.drop([\"pid\"], axis=1)\n",
    "article_df = article_df.drop([\"pid\"], axis=1)\n",
    "article_df = article_df.drop([\"plaw_id\"], axis=1)\n",
    "item_df = item_df.drop([\"pid\"], axis=1)\n",
    "item_df = item_df.drop([\"particle_id\"], axis=1)"
   ]
  },
  {
   "cell_type": "code",
   "execution_count": 14,
   "metadata": {},
   "outputs": [],
   "source": [
    "law_df.to_excel(\"./dataset/propisi_net/law.xlsx\", index=None)\n",
    "article_df.to_excel(\"./dataset/propisi_net/article.xlsx\", index=None)\n",
    "item_df.to_excel(\"./dataset/propisi_net/item.xlsx\", index=None)"
   ]
  },
  {
   "cell_type": "code",
   "execution_count": null,
   "metadata": {},
   "outputs": [],
   "source": []
  }
 ],
 "metadata": {
  "kernelspec": {
   "display_name": "base",
   "language": "python",
   "name": "python3"
  },
  "language_info": {
   "codemirror_mode": {
    "name": "ipython",
    "version": 3
   },
   "file_extension": ".py",
   "mimetype": "text/x-python",
   "name": "python",
   "nbconvert_exporter": "python",
   "pygments_lexer": "ipython3",
   "version": "3.9.16"
  }
 },
 "nbformat": 4,
 "nbformat_minor": 2
}
