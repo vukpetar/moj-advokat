{
 "cells": [
  {
   "cell_type": "markdown",
   "metadata": {},
   "source": [
    "# Import packages"
   ]
  },
  {
   "cell_type": "code",
   "execution_count": null,
   "metadata": {},
   "outputs": [],
   "source": [
    "import os\n",
    "from dotenv import load_dotenv\n",
    "import json\n",
    "import pandas as pd\n",
    "\n",
    "import pinecone\n",
    "import cohere\n",
    "\n",
    "load_dotenv()"
   ]
  },
  {
   "cell_type": "markdown",
   "metadata": {},
   "source": [
    "# Load dataset"
   ]
  },
  {
   "cell_type": "code",
   "execution_count": null,
   "metadata": {},
   "outputs": [],
   "source": [
    "# Load laws\n",
    "law_df = pd.read_excel(\"./dataset/propisi_net/laws.xlsx\")\n",
    "# Load articles\n",
    "article_df = pd.read_excel(\"./dataset/propisi_net/articles.xlsx\")\n",
    "# Load units\n",
    "unit_df = pd.read_excel(\"./dataset/propisi_net/units.xlsx\")\n",
    "# Load items\n",
    "items_df = pd.read_excel(\"./dataset/propisi_net/items.xlsx\")\n",
    "\n",
    "# Save files in CSV foramt\n",
    "law_df.to_csv(\"./dataset/propisi_net/laws.csv\", index=None, encoding='utf-8-sig')\n",
    "article_df.to_csv(\"./dataset/propisi_net/articles.csv\", index=None, encoding='utf-8-sig')\n",
    "unit_df.to_csv(\"./dataset/propisi_net/units.csv\", index=None, encoding='utf-8-sig')"
   ]
  },
  {
   "cell_type": "code",
   "execution_count": null,
   "metadata": {},
   "outputs": [],
   "source": [
    "# Remove rows from items DF where start column is empty\n",
    "items_wo_na_df = items_df[~items_df.start.isna()].copy()\n",
    "# Add Length column to items DF\n",
    "items_wo_na_df[\"length\"] = items_wo_na_df.end - items_wo_na_df.start\n",
    "\n",
    "# Remove items with length greater than 2000\n",
    "items_for_db = items_wo_na_df[items_wo_na_df.length < 2000][[\"id\", \"law_id\", \"article_id\", \"start\", \"end\", \"reference\"]].copy()\n",
    "# Convert start and end columns to int\n",
    "items_for_db.start = items_for_db.start.astype(int)\n",
    "items_for_db.end = items_for_db.end.astype(int)\n",
    "# Save items in CSV format\n",
    "items_for_db.to_csv(\"./dataset/propisi_net/items.csv\", index=None, encoding='utf-8-sig')"
   ]
  },
  {
   "cell_type": "markdown",
   "metadata": {},
   "source": [
    "# Create logic to add references into text"
   ]
  },
  {
   "cell_type": "code",
   "execution_count": null,
   "metadata": {},
   "outputs": [],
   "source": [
    "def add_references(cohere_text, references, article, unit_df):\n",
    "    curr_offset = 0\n",
    "    item_parts = []\n",
    "    for reference in references:\n",
    "        unit_text = \"\"\n",
    "        for unit_id in reference[\"unit_ids\"]:\n",
    "            unit = unit_df[unit_df.id == unit_id].iloc[0]\n",
    "            unit_text = unit_text + article.text[unit.start:unit.end] + \"\\n\"\n",
    "        \n",
    "        cohere_text_with_ref = cohere_text[curr_offset:reference[\"end\"]] + f\" (koji glasi: {unit_text})\"\n",
    "        curr_offset = reference[\"end\"]\n",
    "        item_parts.append(cohere_text_with_ref)\n",
    "    item_parts.append(cohere_text[curr_offset:])\n",
    "\n",
    "    cohere_text_with_ref = ' '.join(item_parts)\n",
    "    return cohere_text_with_ref"
   ]
  },
  {
   "cell_type": "markdown",
   "metadata": {},
   "source": [
    "# Create list of items for vector database (pinecone)"
   ]
  },
  {
   "cell_type": "code",
   "execution_count": null,
   "metadata": {},
   "outputs": [],
   "source": [
    "counter = 0\n",
    "item_ids, vector_items, article_ids = [], [], []\n",
    "for item_ind, item_row in items_for_db.iterrows():\n",
    "    article = article_df[article_df.id == item_row.article_id].iloc[0]\n",
    "    cohere_text = article.text[item_row.start:item_row.end]\n",
    "    article_units = unit_df[unit_df.article_id == item_row.article_id].copy()\n",
    "    references = json.loads(item_row.reference)\n",
    "    # TODO: Add Law and Artivle Title here\n",
    "    if len(references):\n",
    "        cohere_text = add_references(cohere_text, references, article, unit_df)\n",
    "\n",
    "    item_ids.append(item_row.id)\n",
    "    vector_items.append(cohere_text)\n",
    "    article_ids.append(article.id)\n",
    "\n",
    "    counter += 1\n",
    "\n",
    "    if counter > 20:\n",
    "        break"
   ]
  },
  {
   "cell_type": "markdown",
   "metadata": {},
   "source": [
    "# Establish connection with pinecone and cohere services"
   ]
  },
  {
   "cell_type": "code",
   "execution_count": null,
   "metadata": {},
   "outputs": [],
   "source": [
    "pinecone.init(api_key=os.environ[\"PINECONE_KEY\"], environment=os.environ[\"PINECONE_ENV\"])\n",
    "active_indexes = pinecone.list_indexes()\n",
    "\n",
    "co = cohere.Client(os.environ[\"COHERE_KEY\"])\n",
    "# Transform text into embedings\n",
    "vector_item_values = co.embed(\n",
    "    texts=vector_items,\n",
    "    model=\"embed-multilingual-v3.0\",\n",
    "    input_type=\"search_document\"\n",
    ").embeddings"
   ]
  },
  {
   "cell_type": "markdown",
   "metadata": {},
   "source": [
    "# Send cohere vectors to database"
   ]
  },
  {
   "cell_type": "code",
   "execution_count": null,
   "metadata": {},
   "outputs": [],
   "source": [
    "pinecone_vectors = []\n",
    "for item_id, vector_item_value, article_id in zip(item_ids, vector_item_values, article_ids):\n",
    "\n",
    "    pinecone_vectors.append({\n",
    "        'id': str(item_id), \n",
    "        'values': vector_item_value, \n",
    "        'metadata':{'article_id': int(article_id)}\n",
    "    })\n",
    "\n",
    "index = pinecone.Index('items') \n",
    "upsert_response = index.upsert(\n",
    "    vectors=pinecone_vectors,\n",
    "    namespace=os.environ[\"PINECONE_NAMESPACE\"]\n",
    ")"
   ]
  },
  {
   "cell_type": "code",
   "execution_count": null,
   "metadata": {},
   "outputs": [],
   "source": []
  }
 ],
 "metadata": {
  "kernelspec": {
   "display_name": "base",
   "language": "python",
   "name": "python3"
  },
  "language_info": {
   "codemirror_mode": {
    "name": "ipython",
    "version": 3
   },
   "file_extension": ".py",
   "mimetype": "text/x-python",
   "name": "python",
   "nbconvert_exporter": "python",
   "pygments_lexer": "ipython3",
   "version": "3.9.16"
  }
 },
 "nbformat": 4,
 "nbformat_minor": 2
}
